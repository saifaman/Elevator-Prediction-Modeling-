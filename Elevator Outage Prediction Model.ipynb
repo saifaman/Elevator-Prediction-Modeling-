{
 "cells": [
  {
   "cell_type": "code",
   "execution_count": 1,
   "id": "f2013f57",
   "metadata": {},
   "outputs": [],
   "source": [
    "import random\n",
    "import pandas as pd\n",
    "import numpy as np\n",
    "import seaborn as sns\n",
    "import matplotlib.pyplot as plt\n"
   ]
  },
  {
   "cell_type": "code",
   "execution_count": 2,
   "id": "bb4313ad",
   "metadata": {},
   "outputs": [],
   "source": [
    "# Define the ranges for each feature \n",
    "age_range = (1, 35)\n",
    "usage_range = (1, 34)\n",
    "num_repairs = (1, 100)\n",
    "maintenance_history = ['Good', 'Fair', 'Poor', 'Excellent']\n"
   ]
  },
  {
   "cell_type": "code",
   "execution_count": 3,
   "id": "0c837ce7",
   "metadata": {},
   "outputs": [],
   "source": [
    "# Define the function to generate a single row of data\n",
    "def generate_elevator_data():\n",
    "    elevator_id = f'E{str(random.randint(1, 9999)).zfill(4)}'\n",
    "    age = random.randint(age_range[0], age_range[1])\n",
    "    usage = random.randint(usage_range[0], usage_range[1])\n",
    "    repairs = random.randint(num_repairs[0], num_repairs[1])\n",
    "    maintenance = random.choice(maintenance_history)\n",
    "    has_fault = 0 # initialize as no fault\n",
    "    if age >= 10 and random.random() < 0.3:\n",
    "        has_fault = 1\n",
    "    return [elevator_id, age, usage, repairs, maintenance, has_fault]\n",
    "\n",
    "# generate 50000 rows of data\n",
    "\n",
    "data = []\n",
    "for i in range(50000):\n",
    "    row = generate_elevator_data()\n",
    "    data.append(row)\n",
    "    \n",
    "# Create a Pandas DataFrame from the data and save it to CSV file\n",
    "\n",
    "df = pd.DataFrame(data, columns=['Elevator_ID', 'Age (years)', 'Usage (hours/day)', 'Num_repairs', 'Maintenance History', 'Faulty'])\n",
    "df.to_csv('elevator_data.csv', index=False)\n",
    "    "
   ]
  },
  {
   "cell_type": "markdown",
   "id": "1e5b0c0e",
   "metadata": {},
   "source": [
    "# Exploratory Data Analysis "
   ]
  },
  {
   "cell_type": "code",
   "execution_count": 4,
   "id": "22cf9964",
   "metadata": {},
   "outputs": [
    {
     "data": {
      "text/html": [
       "<div>\n",
       "<style scoped>\n",
       "    .dataframe tbody tr th:only-of-type {\n",
       "        vertical-align: middle;\n",
       "    }\n",
       "\n",
       "    .dataframe tbody tr th {\n",
       "        vertical-align: top;\n",
       "    }\n",
       "\n",
       "    .dataframe thead th {\n",
       "        text-align: right;\n",
       "    }\n",
       "</style>\n",
       "<table border=\"1\" class=\"dataframe\">\n",
       "  <thead>\n",
       "    <tr style=\"text-align: right;\">\n",
       "      <th></th>\n",
       "      <th>Elevator_ID</th>\n",
       "      <th>Age (years)</th>\n",
       "      <th>Usage (hours/day)</th>\n",
       "      <th>Num_repairs</th>\n",
       "      <th>Maintenance History</th>\n",
       "      <th>Faulty</th>\n",
       "    </tr>\n",
       "  </thead>\n",
       "  <tbody>\n",
       "    <tr>\n",
       "      <th>0</th>\n",
       "      <td>E5477</td>\n",
       "      <td>9</td>\n",
       "      <td>33</td>\n",
       "      <td>3</td>\n",
       "      <td>Excellent</td>\n",
       "      <td>0</td>\n",
       "    </tr>\n",
       "    <tr>\n",
       "      <th>1</th>\n",
       "      <td>E8952</td>\n",
       "      <td>32</td>\n",
       "      <td>33</td>\n",
       "      <td>64</td>\n",
       "      <td>Good</td>\n",
       "      <td>0</td>\n",
       "    </tr>\n",
       "    <tr>\n",
       "      <th>2</th>\n",
       "      <td>E0297</td>\n",
       "      <td>27</td>\n",
       "      <td>31</td>\n",
       "      <td>71</td>\n",
       "      <td>Good</td>\n",
       "      <td>0</td>\n",
       "    </tr>\n",
       "    <tr>\n",
       "      <th>3</th>\n",
       "      <td>E8454</td>\n",
       "      <td>34</td>\n",
       "      <td>19</td>\n",
       "      <td>15</td>\n",
       "      <td>Excellent</td>\n",
       "      <td>0</td>\n",
       "    </tr>\n",
       "    <tr>\n",
       "      <th>4</th>\n",
       "      <td>E3129</td>\n",
       "      <td>8</td>\n",
       "      <td>13</td>\n",
       "      <td>86</td>\n",
       "      <td>Excellent</td>\n",
       "      <td>0</td>\n",
       "    </tr>\n",
       "  </tbody>\n",
       "</table>\n",
       "</div>"
      ],
      "text/plain": [
       "  Elevator_ID  Age (years)  Usage (hours/day)  Num_repairs  \\\n",
       "0       E5477            9                 33            3   \n",
       "1       E8952           32                 33           64   \n",
       "2       E0297           27                 31           71   \n",
       "3       E8454           34                 19           15   \n",
       "4       E3129            8                 13           86   \n",
       "\n",
       "  Maintenance History  Faulty  \n",
       "0           Excellent       0  \n",
       "1                Good       0  \n",
       "2                Good       0  \n",
       "3           Excellent       0  \n",
       "4           Excellent       0  "
      ]
     },
     "execution_count": 4,
     "metadata": {},
     "output_type": "execute_result"
    }
   ],
   "source": [
    "df.head()"
   ]
  },
  {
   "cell_type": "code",
   "execution_count": 5,
   "id": "08703754",
   "metadata": {},
   "outputs": [
    {
     "data": {
      "text/plain": [
       "(50000, 6)"
      ]
     },
     "execution_count": 5,
     "metadata": {},
     "output_type": "execute_result"
    }
   ],
   "source": [
    "df.shape"
   ]
  },
  {
   "cell_type": "code",
   "execution_count": 6,
   "id": "2191ba00",
   "metadata": {},
   "outputs": [
    {
     "data": {
      "text/html": [
       "<div>\n",
       "<style scoped>\n",
       "    .dataframe tbody tr th:only-of-type {\n",
       "        vertical-align: middle;\n",
       "    }\n",
       "\n",
       "    .dataframe tbody tr th {\n",
       "        vertical-align: top;\n",
       "    }\n",
       "\n",
       "    .dataframe thead th {\n",
       "        text-align: right;\n",
       "    }\n",
       "</style>\n",
       "<table border=\"1\" class=\"dataframe\">\n",
       "  <thead>\n",
       "    <tr style=\"text-align: right;\">\n",
       "      <th></th>\n",
       "      <th>count</th>\n",
       "      <th>mean</th>\n",
       "      <th>std</th>\n",
       "      <th>min</th>\n",
       "      <th>25%</th>\n",
       "      <th>50%</th>\n",
       "      <th>75%</th>\n",
       "      <th>max</th>\n",
       "    </tr>\n",
       "  </thead>\n",
       "  <tbody>\n",
       "    <tr>\n",
       "      <th>Age (years)</th>\n",
       "      <td>50000.0</td>\n",
       "      <td>17.99132</td>\n",
       "      <td>10.079724</td>\n",
       "      <td>1.0</td>\n",
       "      <td>9.0</td>\n",
       "      <td>18.0</td>\n",
       "      <td>27.0</td>\n",
       "      <td>35.0</td>\n",
       "    </tr>\n",
       "    <tr>\n",
       "      <th>Usage (hours/day)</th>\n",
       "      <td>50000.0</td>\n",
       "      <td>17.55988</td>\n",
       "      <td>9.832273</td>\n",
       "      <td>1.0</td>\n",
       "      <td>9.0</td>\n",
       "      <td>18.0</td>\n",
       "      <td>26.0</td>\n",
       "      <td>34.0</td>\n",
       "    </tr>\n",
       "    <tr>\n",
       "      <th>Num_repairs</th>\n",
       "      <td>50000.0</td>\n",
       "      <td>50.55222</td>\n",
       "      <td>28.795327</td>\n",
       "      <td>1.0</td>\n",
       "      <td>26.0</td>\n",
       "      <td>51.0</td>\n",
       "      <td>75.0</td>\n",
       "      <td>100.0</td>\n",
       "    </tr>\n",
       "    <tr>\n",
       "      <th>Faulty</th>\n",
       "      <td>50000.0</td>\n",
       "      <td>0.22340</td>\n",
       "      <td>0.416528</td>\n",
       "      <td>0.0</td>\n",
       "      <td>0.0</td>\n",
       "      <td>0.0</td>\n",
       "      <td>0.0</td>\n",
       "      <td>1.0</td>\n",
       "    </tr>\n",
       "  </tbody>\n",
       "</table>\n",
       "</div>"
      ],
      "text/plain": [
       "                     count      mean        std  min   25%   50%   75%    max\n",
       "Age (years)        50000.0  17.99132  10.079724  1.0   9.0  18.0  27.0   35.0\n",
       "Usage (hours/day)  50000.0  17.55988   9.832273  1.0   9.0  18.0  26.0   34.0\n",
       "Num_repairs        50000.0  50.55222  28.795327  1.0  26.0  51.0  75.0  100.0\n",
       "Faulty             50000.0   0.22340   0.416528  0.0   0.0   0.0   0.0    1.0"
      ]
     },
     "execution_count": 6,
     "metadata": {},
     "output_type": "execute_result"
    }
   ],
   "source": [
    "df.describe().T"
   ]
  },
  {
   "cell_type": "markdown",
   "id": "52630cbc",
   "metadata": {},
   "source": [
    "Observations: \n",
    "   - We can see the maximum age recorded 35 years which is higher than the normal expectation of 20 - 35 years. It looks like data is incorrectly documented. \n",
    "   - The usage also got inaccurate number as amximum usage recorded 34 hours which is higher than a day's hours. \n",
    "    "
   ]
  },
  {
   "cell_type": "code",
   "execution_count": 7,
   "id": "25683216",
   "metadata": {},
   "outputs": [
    {
     "name": "stdout",
     "output_type": "stream",
     "text": [
      "<class 'pandas.core.frame.DataFrame'>\n",
      "RangeIndex: 50000 entries, 0 to 49999\n",
      "Data columns (total 6 columns):\n",
      " #   Column               Non-Null Count  Dtype \n",
      "---  ------               --------------  ----- \n",
      " 0   Elevator_ID          50000 non-null  object\n",
      " 1   Age (years)          50000 non-null  int64 \n",
      " 2   Usage (hours/day)    50000 non-null  int64 \n",
      " 3   Num_repairs          50000 non-null  int64 \n",
      " 4   Maintenance History  50000 non-null  object\n",
      " 5   Faulty               50000 non-null  int64 \n",
      "dtypes: int64(4), object(2)\n",
      "memory usage: 2.3+ MB\n"
     ]
    }
   ],
   "source": [
    "df.info()"
   ]
  },
  {
   "cell_type": "code",
   "execution_count": 8,
   "id": "006a1d7a",
   "metadata": {},
   "outputs": [
    {
     "name": "stdout",
     "output_type": "stream",
     "text": [
      "  Elevator_ID  Age (years)  Usage (hours/day)  Num_repairs  \\\n",
      "0       E5477            9                 33            3   \n",
      "4       E3129            8                 13           86   \n",
      "5       E6395           25                 31           10   \n",
      "6       E7609           17                 10           28   \n",
      "8       E1248           19                 11           74   \n",
      "\n",
      "  Maintenance History  Faulty  \n",
      "0           Excellent       0  \n",
      "4           Excellent       0  \n",
      "5                Good       1  \n",
      "6                Poor       0  \n",
      "8                Fair       0  \n"
     ]
    }
   ],
   "source": [
    "# exclude the rows for Age(years) greater than 25. \n",
    "mask1 = df['Age (years)'] > 25\n",
    "df1 = df[~mask1]# filter the DataFrame to exclude rows where age(year) is greater than 25\n",
    "print(df1.head(5))"
   ]
  },
  {
   "cell_type": "code",
   "execution_count": 9,
   "id": "1b01a5ca",
   "metadata": {},
   "outputs": [
    {
     "data": {
      "text/html": [
       "<div>\n",
       "<style scoped>\n",
       "    .dataframe tbody tr th:only-of-type {\n",
       "        vertical-align: middle;\n",
       "    }\n",
       "\n",
       "    .dataframe tbody tr th {\n",
       "        vertical-align: top;\n",
       "    }\n",
       "\n",
       "    .dataframe thead th {\n",
       "        text-align: right;\n",
       "    }\n",
       "</style>\n",
       "<table border=\"1\" class=\"dataframe\">\n",
       "  <thead>\n",
       "    <tr style=\"text-align: right;\">\n",
       "      <th></th>\n",
       "      <th>count</th>\n",
       "      <th>mean</th>\n",
       "      <th>std</th>\n",
       "      <th>min</th>\n",
       "      <th>25%</th>\n",
       "      <th>50%</th>\n",
       "      <th>75%</th>\n",
       "      <th>max</th>\n",
       "    </tr>\n",
       "  </thead>\n",
       "  <tbody>\n",
       "    <tr>\n",
       "      <th>Age (years)</th>\n",
       "      <td>35762.0</td>\n",
       "      <td>13.025082</td>\n",
       "      <td>7.220114</td>\n",
       "      <td>1.0</td>\n",
       "      <td>7.0</td>\n",
       "      <td>13.0</td>\n",
       "      <td>19.0</td>\n",
       "      <td>25.0</td>\n",
       "    </tr>\n",
       "    <tr>\n",
       "      <th>Usage (hours/day)</th>\n",
       "      <td>35762.0</td>\n",
       "      <td>17.577624</td>\n",
       "      <td>9.843573</td>\n",
       "      <td>1.0</td>\n",
       "      <td>9.0</td>\n",
       "      <td>18.0</td>\n",
       "      <td>26.0</td>\n",
       "      <td>34.0</td>\n",
       "    </tr>\n",
       "    <tr>\n",
       "      <th>Num_repairs</th>\n",
       "      <td>35762.0</td>\n",
       "      <td>50.659079</td>\n",
       "      <td>28.849186</td>\n",
       "      <td>1.0</td>\n",
       "      <td>26.0</td>\n",
       "      <td>51.0</td>\n",
       "      <td>76.0</td>\n",
       "      <td>100.0</td>\n",
       "    </tr>\n",
       "    <tr>\n",
       "      <th>Faulty</th>\n",
       "      <td>35762.0</td>\n",
       "      <td>0.193194</td>\n",
       "      <td>0.394809</td>\n",
       "      <td>0.0</td>\n",
       "      <td>0.0</td>\n",
       "      <td>0.0</td>\n",
       "      <td>0.0</td>\n",
       "      <td>1.0</td>\n",
       "    </tr>\n",
       "  </tbody>\n",
       "</table>\n",
       "</div>"
      ],
      "text/plain": [
       "                     count       mean        std  min   25%   50%   75%    max\n",
       "Age (years)        35762.0  13.025082   7.220114  1.0   7.0  13.0  19.0   25.0\n",
       "Usage (hours/day)  35762.0  17.577624   9.843573  1.0   9.0  18.0  26.0   34.0\n",
       "Num_repairs        35762.0  50.659079  28.849186  1.0  26.0  51.0  76.0  100.0\n",
       "Faulty             35762.0   0.193194   0.394809  0.0   0.0   0.0   0.0    1.0"
      ]
     },
     "execution_count": 9,
     "metadata": {},
     "output_type": "execute_result"
    }
   ],
   "source": [
    "df1.describe().T"
   ]
  },
  {
   "cell_type": "code",
   "execution_count": 10,
   "id": "58e1a118",
   "metadata": {},
   "outputs": [
    {
     "name": "stdout",
     "output_type": "stream",
     "text": [
      "   Elevator_ID  Age (years)  Usage (hours/day)  Num_repairs  \\\n",
      "4        E3129            8                 13           86   \n",
      "6        E7609           17                 10           28   \n",
      "8        E1248           19                 11           74   \n",
      "9        E9239           23                  1           95   \n",
      "10       E6188            2                 19            2   \n",
      "\n",
      "   Maintenance History  Faulty  \n",
      "4            Excellent       0  \n",
      "6                 Poor       0  \n",
      "8                 Fair       0  \n",
      "9                 Fair       0  \n",
      "10                Poor       0  \n"
     ]
    }
   ],
   "source": [
    "# exclude the rows for Usage (hours/day) less than 25. \n",
    "df2 = df1.loc[df1['Usage (hours/day)'] <= 24]\n",
    "print(df2.head())"
   ]
  },
  {
   "cell_type": "code",
   "execution_count": 11,
   "id": "199b995a",
   "metadata": {},
   "outputs": [
    {
     "data": {
      "text/plain": [
       "(25082, 6)"
      ]
     },
     "execution_count": 11,
     "metadata": {},
     "output_type": "execute_result"
    }
   ],
   "source": [
    "df2.shape"
   ]
  },
  {
   "cell_type": "markdown",
   "id": "a62b4bc3",
   "metadata": {},
   "source": [
    "Observations:\n",
    "    We can see there are almost 50% of the intial dataset data were incorrect. After removing it from the dataframe its now little over 25000. "
   ]
  },
  {
   "cell_type": "code",
   "execution_count": 12,
   "id": "102fcdea",
   "metadata": {},
   "outputs": [
    {
     "data": {
      "text/html": [
       "<div>\n",
       "<style scoped>\n",
       "    .dataframe tbody tr th:only-of-type {\n",
       "        vertical-align: middle;\n",
       "    }\n",
       "\n",
       "    .dataframe tbody tr th {\n",
       "        vertical-align: top;\n",
       "    }\n",
       "\n",
       "    .dataframe thead th {\n",
       "        text-align: right;\n",
       "    }\n",
       "</style>\n",
       "<table border=\"1\" class=\"dataframe\">\n",
       "  <thead>\n",
       "    <tr style=\"text-align: right;\">\n",
       "      <th></th>\n",
       "      <th>count</th>\n",
       "      <th>mean</th>\n",
       "      <th>std</th>\n",
       "      <th>min</th>\n",
       "      <th>25%</th>\n",
       "      <th>50%</th>\n",
       "      <th>75%</th>\n",
       "      <th>max</th>\n",
       "    </tr>\n",
       "  </thead>\n",
       "  <tbody>\n",
       "    <tr>\n",
       "      <th>Age (years)</th>\n",
       "      <td>25082.0</td>\n",
       "      <td>12.988199</td>\n",
       "      <td>7.216266</td>\n",
       "      <td>1.0</td>\n",
       "      <td>7.0</td>\n",
       "      <td>13.0</td>\n",
       "      <td>19.0</td>\n",
       "      <td>25.0</td>\n",
       "    </tr>\n",
       "    <tr>\n",
       "      <th>Usage (hours/day)</th>\n",
       "      <td>25082.0</td>\n",
       "      <td>12.500000</td>\n",
       "      <td>6.945987</td>\n",
       "      <td>1.0</td>\n",
       "      <td>6.0</td>\n",
       "      <td>13.0</td>\n",
       "      <td>18.0</td>\n",
       "      <td>24.0</td>\n",
       "    </tr>\n",
       "    <tr>\n",
       "      <th>Num_repairs</th>\n",
       "      <td>25082.0</td>\n",
       "      <td>50.727813</td>\n",
       "      <td>28.861428</td>\n",
       "      <td>1.0</td>\n",
       "      <td>26.0</td>\n",
       "      <td>51.0</td>\n",
       "      <td>76.0</td>\n",
       "      <td>100.0</td>\n",
       "    </tr>\n",
       "    <tr>\n",
       "      <th>Faulty</th>\n",
       "      <td>25082.0</td>\n",
       "      <td>0.193127</td>\n",
       "      <td>0.394759</td>\n",
       "      <td>0.0</td>\n",
       "      <td>0.0</td>\n",
       "      <td>0.0</td>\n",
       "      <td>0.0</td>\n",
       "      <td>1.0</td>\n",
       "    </tr>\n",
       "  </tbody>\n",
       "</table>\n",
       "</div>"
      ],
      "text/plain": [
       "                     count       mean        std  min   25%   50%   75%    max\n",
       "Age (years)        25082.0  12.988199   7.216266  1.0   7.0  13.0  19.0   25.0\n",
       "Usage (hours/day)  25082.0  12.500000   6.945987  1.0   6.0  13.0  18.0   24.0\n",
       "Num_repairs        25082.0  50.727813  28.861428  1.0  26.0  51.0  76.0  100.0\n",
       "Faulty             25082.0   0.193127   0.394759  0.0   0.0   0.0   0.0    1.0"
      ]
     },
     "execution_count": 12,
     "metadata": {},
     "output_type": "execute_result"
    }
   ],
   "source": [
    "df2.describe().T"
   ]
  },
  {
   "cell_type": "code",
   "execution_count": 76,
   "id": "49e2d2cf",
   "metadata": {},
   "outputs": [
    {
     "data": {
      "text/plain": [
       "0    20238\n",
       "1     4844\n",
       "Name: Faulty, dtype: int64"
      ]
     },
     "execution_count": 76,
     "metadata": {},
     "output_type": "execute_result"
    }
   ],
   "source": [
    "df3['Faulty'].value_counts()"
   ]
  },
  {
   "cell_type": "code",
   "execution_count": 78,
   "id": "fb989ec7",
   "metadata": {},
   "outputs": [
    {
     "data": {
      "image/png": "[encoded data removed]",
      "text/plain": [
       "<Figure size 432x288 with 1 Axes>"
      ]
     },
     "metadata": {
      "needs_background": "light"
     },
     "output_type": "display_data"
    }
   ],
   "source": [
    "df3[\"Faulty\"].value_counts().plot(kind=\"bar\", color=[\"salmon\", \"lightblue\"]);"
   ]
  },
  {
   "cell_type": "markdown",
   "id": "c5f1b23c",
   "metadata": {},
   "source": [
    "Creating a histogram to visualize the distribution the elevator ages"
   ]
  },
  {
   "cell_type": "code",
   "execution_count": 13,
   "id": "aa82ade6",
   "metadata": {},
   "outputs": [
    {
     "data": {
      "image/png": "[encoded data removed]",
      "text/plain": [
       "<Figure size 432x288 with 1 Axes>"
      ]
     },
     "metadata": {
      "needs_background": "light"
     },
     "output_type": "display_data"
    }
   ],
   "source": [
    "plt.hist(df2['Age (years)'], bins=10)\n",
    "plt.title('Distribution of Elevator Ages')\n",
    "plt.xlabel('Age (years)')\n",
    "plt.ylabel('Frequency')\n",
    "plt.show()"
   ]
  },
  {
   "cell_type": "markdown",
   "id": "4850d0d5",
   "metadata": {},
   "source": [
    "Observations:\n",
    "- histogram shows data is normally distributed. "
   ]
  },
  {
   "cell_type": "code",
   "execution_count": 14,
   "id": "fc140763",
   "metadata": {},
   "outputs": [
    {
     "data": {
      "image/png": "[encoded data removed]",
      "text/plain": [
       "<Figure size 432x288 with 1 Axes>"
      ]
     },
     "metadata": {
      "needs_background": "light"
     },
     "output_type": "display_data"
    }
   ],
   "source": [
    "sns.scatterplot(data=df2, x='Age (years)', y='Usage (hours/day)', hue='Faulty')\n",
    "plt.title('Elevator Age vs. Usage')\n",
    "plt.show()"
   ]
  },
  {
   "cell_type": "markdown",
   "id": "e71de85d",
   "metadata": {},
   "source": [
    "Observations:\n",
    "- There is a weak positive correlation between elevator age and usage, and that faulty elevators tend to have higher usage and be older than non-faulty elevators.\n",
    "- based on the EDA, we can conclude that elevator age and usage are important predictors of elevator faults, and that older elevators and those with higher usage are more likely to experience faults.\n"
   ]
  },
  {
   "cell_type": "code",
   "execution_count": 15,
   "id": "2f385eb3",
   "metadata": {},
   "outputs": [
    {
     "data": {
      "image/png": "[encoded data removed]",
      "text/plain": [
       "<Figure size 432x288 with 2 Axes>"
      ]
     },
     "metadata": {
      "needs_background": "light"
     },
     "output_type": "display_data"
    }
   ],
   "source": [
    "sns.heatmap(df2.corr(), annot=True, cmap='coolwarm')\n",
    "\n",
    "# Add a title and axis labels\n",
    "plt.title('Heat Map of Correlation Matrix')\n",
    "\n",
    "# Show the plot\n",
    "plt.show()"
   ]
  },
  {
   "cell_type": "code",
   "execution_count": 16,
   "id": "1efdd88b",
   "metadata": {},
   "outputs": [],
   "source": [
    "df3 = df2.drop(columns=['Elevator_ID', 'Maintenance History'])"
   ]
  },
  {
   "cell_type": "code",
   "execution_count": 17,
   "id": "73505a23",
   "metadata": {},
   "outputs": [
    {
     "name": "stderr",
     "output_type": "stream",
     "text": [
      "C:\\Users\\saifa\\anaconda3\\conda\\lib\\site-packages\\sklearn\\cluster\\_kmeans.py:870: FutureWarning: The default value of `n_init` will change from 10 to 'auto' in 1.4. Set the value of `n_init` explicitly to suppress the warning\n",
      "  warnings.warn(\n"
     ]
    },
    {
     "data": {
      "image/png": "[encoded data removed]",
      "text/plain": [
       "<Figure size 432x288 with 1 Axes>"
      ]
     },
     "metadata": {
      "needs_background": "light"
     },
     "output_type": "display_data"
    }
   ],
   "source": [
    "from sklearn.cluster import KMeans\n",
    "# Initialize a KMeans object\n",
    "kmeans = KMeans(n_clusters=3)\n",
    "\n",
    "# Fit the KMeans model to the data\n",
    "kmeans.fit(df2.drop(columns=['Elevator_ID', 'Maintenance History']))\n",
    "\n",
    "# Get the cluster labels for each data point\n",
    "labels = kmeans.labels_\n",
    "\n",
    "# Create a scatter plot of the data with color-coded clusters\n",
    "plt.title('Heat Map of Correlation Matrix')\n",
    "plt.scatter(df2['Age (years)'], df2['Num_repairs'], c=labels)\n",
    "\n",
    "# Add a title and axis labels\n",
    "plt.title('KMeans Clustering of Elevator Data')\n",
    "plt.xlabel('Age (years)')\n",
    "plt.ylabel('Number of Repairs')\n",
    "\n",
    "# Show the plot\n",
    "plt.show()"
   ]
  },
  {
   "cell_type": "code",
   "execution_count": 18,
   "id": "19f63d89",
   "metadata": {},
   "outputs": [],
   "source": [
    "# Importing necessary scikit learn library for fitting the model"
   ]
  },
  {
   "cell_type": "code",
   "execution_count": 19,
   "id": "b5e8e36a",
   "metadata": {},
   "outputs": [
    {
     "name": "stdout",
     "output_type": "stream",
     "text": [
      "Requirement already satisfied: scikit-learn in c:\\users\\saifa\\anaconda3\\conda\\lib\\site-packages (1.2.1)\n",
      "Requirement already satisfied: numpy>=1.17.3 in c:\\users\\saifa\\anaconda3\\conda\\lib\\site-packages (from scikit-learn) (1.24.2)\n",
      "Requirement already satisfied: threadpoolctl>=2.0.0 in c:\\users\\saifa\\anaconda3\\conda\\lib\\site-packages (from scikit-learn) (3.1.0)\n",
      "Requirement already satisfied: joblib>=1.1.1 in c:\\users\\saifa\\anaconda3\\conda\\lib\\site-packages (from scikit-learn) (1.2.0)\n",
      "Requirement already satisfied: scipy>=1.3.2 in c:\\users\\saifa\\anaconda3\\conda\\lib\\site-packages (from scikit-learn) (1.10.1)\n",
      "Note: you may need to restart the kernel to use updated packages.\n"
     ]
    }
   ],
   "source": [
    "pip install scikit-learn"
   ]
  },
  {
   "cell_type": "code",
   "execution_count": 35,
   "id": "c1b1391e",
   "metadata": {},
   "outputs": [],
   "source": [
    "from sklearn.model_selection import train_test_split\n",
    "from sklearn.neighbors import KNeighborsClassifier\n",
    "from sklearn.preprocessing import LabelEncoder\n",
    "from sklearn.linear_model import LogisticRegression\n",
    "from sklearn.tree import DecisionTreeClassifier\n",
    "from sklearn.ensemble import RandomForestClassifier\n",
    "from sklearn.svm import SVC\n",
    "from sklearn.neural_network import MLPClassifier\n",
    "from sklearn.metrics import accuracy_score, precision_score, recall_score, f1_score"
   ]
  },
  {
   "cell_type": "code",
   "execution_count": 36,
   "id": "0cbfb5c7",
   "metadata": {},
   "outputs": [],
   "source": [
    "# Splitting the data set into Training and Testing "
   ]
  },
  {
   "cell_type": "code",
   "execution_count": 37,
   "id": "1c37c89f",
   "metadata": {},
   "outputs": [],
   "source": [
    "X = df3.drop('Faulty', axis=1)\n",
    "y = df3['Faulty']"
   ]
  },
  {
   "cell_type": "code",
   "execution_count": 38,
   "id": "d5f4bc85",
   "metadata": {},
   "outputs": [],
   "source": [
    "X_train, X_test, y_train, y_test = train_test_split(X, y, test_size=0.2, random_state=42 )"
   ]
  },
  {
   "cell_type": "code",
   "execution_count": 42,
   "id": "069647fd",
   "metadata": {},
   "outputs": [],
   "source": [
    "models = {\"Logistic Regression\": LogisticRegression(),\n",
    "          \"KNN\": KNeighborsClassifier(),\n",
    "          \"Random Forest\": RandomForestClassifier(),\n",
    "          \"Decision Tree\": DecisionTreeClassifier(), \n",
    "          \"Random Forest\": RandomForestClassifier(),\n",
    "          \"SVM\": SVC(),\n",
    "          \"Neural Network\": MLPClassifier()}\n",
    "\n",
    "# Create a function to fit and score models\n",
    "def fit_and_score(models, X_train, X_test, y_train, y_test):\n",
    "    \"\"\"\n",
    "    Fits and evaluates given machine learning models.\n",
    "    models : a dict of differetn Scikit-Learn machine learning models\n",
    "    X_train : training data (no labels)\n",
    "    X_test : testing data (no labels)\n",
    "    y_train : training labels\n",
    "    y_test : test labels\n",
    "    \"\"\"\n",
    "    # Set random seed\n",
    "    np.random.seed(42)\n",
    "    # Make a dictionary to keep model scores\n",
    "    model_scores = {}\n",
    "    # Loop through models\n",
    "    for name, model in models.items():\n",
    "        # Fit the model to the data\n",
    "        model.fit(X_train, y_train)\n",
    "        # Evaluate the model and append its score to model_scores\n",
    "        model_scores[name] = model.score(X_test, y_test)\n",
    "    return model_scores"
   ]
  },
  {
   "cell_type": "code",
   "execution_count": 44,
   "id": "942a3974",
   "metadata": {},
   "outputs": [
    {
     "data": {
      "text/plain": [
       "{'Logistic Regression': 0.8092485549132948,\n",
       " 'KNN': 0.7669922264301375,\n",
       " 'Random Forest': 0.7548335658760216,\n",
       " 'Decision Tree': 0.738489136934423,\n",
       " 'SVM': 0.8092485549132948,\n",
       " 'Neural Network': 0.8092485549132948}"
      ]
     },
     "execution_count": 44,
     "metadata": {},
     "output_type": "execute_result"
    }
   ],
   "source": [
    "model_scores = fit_and_score(models=models,\n",
    "                             X_train=X_train,\n",
    "                             X_test=X_test,\n",
    "                             y_train=y_train,\n",
    "                             y_test=y_test)\n",
    "\n",
    "model_scores"
   ]
  },
  {
   "cell_type": "markdown",
   "id": "ce9ac2ff",
   "metadata": {},
   "source": [
    "Observations:\n",
    "The highest accuracy scores are obtained by Logistic Regression, SVM, and Neural Network, all with a score of 0.809. This indicates that these models are likely to be the most effective for the given dataset.\n",
    "\n",
    "The KNN model has an accuracy score of 0.767, which is somewhat lower than the top-performing models. This suggests that the KNN model may not be as well-suited for this particular dataset as other models.\n",
    "\n",
    "The Random Forest and Decision Tree models have accuracy scores of 0.755 and 0.738, respectively, which are lower than the top-performing models but still reasonably high. Depending on the specific requirements and constraints of the task, it may still be worthwhile to consider these models.\n",
    "\n",
    "It's important to note that accuracy is just one metric for evaluating model performance, and it may not always be the most appropriate metric for a given task. Other metrics, such as precision, recall, or F1 score, may be more relevant depending on the specifics of the task. It's a good idea to consider multiple metrics when evaluating models."
   ]
  },
  {
   "cell_type": "code",
   "execution_count": 45,
   "id": "b8917976",
   "metadata": {},
   "outputs": [
    {
     "data": {
      "image/png": "[encoded data removed]",
      "text/plain": [
       "<Figure size 432x288 with 1 Axes>"
      ]
     },
     "metadata": {
      "needs_background": "light"
     },
     "output_type": "display_data"
    }
   ],
   "source": [
    "# Model Comparison \n",
    "\n",
    "model_compare = pd.DataFrame(model_scores, index=[\"accuracy\"])\n",
    "model_compare.T.plot.bar();"
   ]
  },
  {
   "cell_type": "markdown",
   "id": "631d5ab8",
   "metadata": {},
   "source": [
    "# Hyperparameter tuning (by hand)\n",
    "\n"
   ]
  },
  {
   "cell_type": "code",
   "execution_count": 46,
   "id": "af42cae1",
   "metadata": {},
   "outputs": [],
   "source": [
    "# Let's tune KNN\n",
    "\n",
    "train_scores = []\n",
    "test_scores = []\n",
    "\n",
    "# Create a list of differnt values for n_neighbors\n",
    "neighbors = range(1, 21)\n",
    "\n",
    "# Setup KNN instance\n",
    "knn = KNeighborsClassifier()\n",
    "\n",
    "# Loop through different n_neighbors\n",
    "for i in neighbors:\n",
    "    knn.set_params(n_neighbors=i)\n",
    "    \n",
    "    # Fit the algorithm\n",
    "    knn.fit(X_train, y_train)\n",
    "    \n",
    "    # Update the training scores list\n",
    "    train_scores.append(knn.score(X_train, y_train))\n",
    "    \n",
    "    # Update the test scores list\n",
    "    test_scores.append(knn.score(X_test, y_test))"
   ]
  },
  {
   "cell_type": "code",
   "execution_count": 47,
   "id": "c66fe6b7",
   "metadata": {},
   "outputs": [
    {
     "data": {
      "text/plain": [
       "[0.9589833042611513,\n",
       " 0.8629952653874906,\n",
       " 0.8643408921006728,\n",
       " 0.8358833790181909,\n",
       " 0.8375778719162721,\n",
       " 0.8261649638674309,\n",
       " 0.828158484923997,\n",
       " 0.8181410416147521,\n",
       " 0.819087964116621,\n",
       " 0.8141539995016197,\n",
       " 0.8146523797657613,\n",
       " 0.8111138798903563,\n",
       " 0.811014203837528,\n",
       " 0.8090705208073761,\n",
       " 0.8105158235733865,\n",
       " 0.8078744081734364,\n",
       " 0.8089210067281336,\n",
       " 0.807774732120608,\n",
       " 0.8087714926488911,\n",
       " 0.807774732120608]"
      ]
     },
     "execution_count": 47,
     "metadata": {},
     "output_type": "execute_result"
    }
   ],
   "source": [
    "train_scores\n"
   ]
  },
  {
   "cell_type": "code",
   "execution_count": 48,
   "id": "dffb6712",
   "metadata": {},
   "outputs": [
    {
     "data": {
      "text/plain": [
       "[0.7329081124177795,\n",
       " 0.7851305561092287,\n",
       " 0.7484552521427148,\n",
       " 0.7899142914092087,\n",
       " 0.7669922264301375,\n",
       " 0.7913095475383696,\n",
       " 0.7735698624676102,\n",
       " 0.7937014151883596,\n",
       " 0.7811441100259119,\n",
       " 0.7974885389675105,\n",
       " 0.7889176798883795,\n",
       " 0.800478373529998,\n",
       " 0.7948973490133546,\n",
       " 0.8010763404424955,\n",
       " 0.795694638230018,\n",
       " 0.8000797289216663,\n",
       " 0.7968905720550129,\n",
       " 0.8020729519633247,\n",
       " 0.800478373529998,\n",
       " 0.8042654973091489]"
      ]
     },
     "execution_count": 48,
     "metadata": {},
     "output_type": "execute_result"
    }
   ],
   "source": [
    "test_scores"
   ]
  },
  {
   "cell_type": "code",
   "execution_count": 49,
   "id": "c703426e",
   "metadata": {},
   "outputs": [
    {
     "name": "stdout",
     "output_type": "stream",
     "text": [
      "Maximum KNN score on the test data: 80.43%\n"
     ]
    },
    {
     "data": {
      "image/png": "[encoded data removed]",
      "text/plain": [
       "<Figure size 432x288 with 1 Axes>"
      ]
     },
     "metadata": {
      "needs_background": "light"
     },
     "output_type": "display_data"
    }
   ],
   "source": [
    "plt.plot(neighbors, train_scores, label=\"Train score\")\n",
    "plt.plot(neighbors, test_scores, label=\"Test score\")\n",
    "plt.xticks(np.arange(1, 21, 1))\n",
    "plt.xlabel(\"Number of neighbors\")\n",
    "plt.ylabel(\"Model score\")\n",
    "plt.legend()\n",
    "\n",
    "print(f\"Maximum KNN score on the test data: {max(test_scores)*100:.2f}%\")"
   ]
  },
  {
   "cell_type": "markdown",
   "id": "dc231282",
   "metadata": {},
   "source": [
    "# Hyperparameter tuning with RandomizedSearchCV"
   ]
  },
  {
   "cell_type": "code",
   "execution_count": 51,
   "id": "c0e844f7",
   "metadata": {},
   "outputs": [],
   "source": [
    "# Create a hyperparameter grid for LogisticRegression\n",
    "log_reg_grid = {\"C\": np.logspace(-4, 4, 20),\n",
    "                \"solver\": [\"liblinear\"]}\n",
    "\n",
    "# Create a hyperparameter grid for RandomForestClassifier\n",
    "rf_grid = {\"n_estimators\": np.arange(10, 1000, 50),\n",
    "           \"max_depth\": [None, 3, 5, 10],\n",
    "           \"min_samples_split\": np.arange(2, 20, 2),\n",
    "           \"min_samples_leaf\": np.arange(1, 20, 2)}"
   ]
  },
  {
   "cell_type": "markdown",
   "id": "c90ce897",
   "metadata": {},
   "source": [
    "Observations:\n",
    "    ow we've got hyperparameter grids setup for each of our models, let's tune them using RandomizedSearchCV.."
   ]
  },
  {
   "cell_type": "code",
   "execution_count": 53,
   "id": "9ccf7aba",
   "metadata": {},
   "outputs": [],
   "source": [
    "from sklearn.model_selection import RandomizedSearchCV, GridSearchCV"
   ]
  },
  {
   "cell_type": "code",
   "execution_count": 54,
   "id": "9f43e132",
   "metadata": {},
   "outputs": [
    {
     "name": "stdout",
     "output_type": "stream",
     "text": [
      "Fitting 5 folds for each of 20 candidates, totalling 100 fits\n"
     ]
    },
    {
     "data": {
      "text/html": [
       "<style>#sk-container-id-1 {color: black;background-color: white;}#sk-container-id-1 pre{padding: 0;}#sk-container-id-1 div.sk-toggleable {background-color: white;}#sk-container-id-1 label.sk-toggleable__label {cursor: pointer;display: block;width: 100%;margin-bottom: 0;padding: 0.3em;box-sizing: border-box;text-align: center;}#sk-container-id-1 label.sk-toggleable__label-arrow:before {content: \"▸\";float: left;margin-right: 0.25em;color: #696969;}#sk-container-id-1 label.sk-toggleable__label-arrow:hover:before {color: black;}#sk-container-id-1 div.sk-estimator:hover label.sk-toggleable__label-arrow:before {color: black;}#sk-container-id-1 div.sk-toggleable__content {max-height: 0;max-width: 0;overflow: hidden;text-align: left;background-color: #f0f8ff;}#sk-container-id-1 div.sk-toggleable__content pre {margin: 0.2em;color: black;border-radius: 0.25em;background-color: #f0f8ff;}#sk-container-id-1 input.sk-toggleable__control:checked~div.sk-toggleable__content {max-height: 200px;max-width: 100%;overflow: auto;}#sk-container-id-1 input.sk-toggleable__control:checked~label.sk-toggleable__label-arrow:before {content: \"▾\";}#sk-container-id-1 div.sk-estimator input.sk-toggleable__control:checked~label.sk-toggleable__label {background-color: #d4ebff;}#sk-container-id-1 div.sk-label input.sk-toggleable__control:checked~label.sk-toggleable__label {background-color: #d4ebff;}#sk-container-id-1 input.sk-hidden--visually {border: 0;clip: rect(1px 1px 1px 1px);clip: rect(1px, 1px, 1px, 1px);height: 1px;margin: -1px;overflow: hidden;padding: 0;position: absolute;width: 1px;}#sk-container-id-1 div.sk-estimator {font-family: monospace;background-color: #f0f8ff;border: 1px dotted black;border-radius: 0.25em;box-sizing: border-box;margin-bottom: 0.5em;}#sk-container-id-1 div.sk-estimator:hover {background-color: #d4ebff;}#sk-container-id-1 div.sk-parallel-item::after {content: \"\";width: 100%;border-bottom: 1px solid gray;flex-grow: 1;}#sk-container-id-1 div.sk-label:hover label.sk-toggleable__label {background-color: #d4ebff;}#sk-container-id-1 div.sk-serial::before {content: \"\";position: absolute;border-left: 1px solid gray;box-sizing: border-box;top: 0;bottom: 0;left: 50%;z-index: 0;}#sk-container-id-1 div.sk-serial {display: flex;flex-direction: column;align-items: center;background-color: white;padding-right: 0.2em;padding-left: 0.2em;position: relative;}#sk-container-id-1 div.sk-item {position: relative;z-index: 1;}#sk-container-id-1 div.sk-parallel {display: flex;align-items: stretch;justify-content: center;background-color: white;position: relative;}#sk-container-id-1 div.sk-item::before, #sk-container-id-1 div.sk-parallel-item::before {content: \"\";position: absolute;border-left: 1px solid gray;box-sizing: border-box;top: 0;bottom: 0;left: 50%;z-index: -1;}#sk-container-id-1 div.sk-parallel-item {display: flex;flex-direction: column;z-index: 1;position: relative;background-color: white;}#sk-container-id-1 div.sk-parallel-item:first-child::after {align-self: flex-end;width: 50%;}#sk-container-id-1 div.sk-parallel-item:last-child::after {align-self: flex-start;width: 50%;}#sk-container-id-1 div.sk-parallel-item:only-child::after {width: 0;}#sk-container-id-1 div.sk-dashed-wrapped {border: 1px dashed gray;margin: 0 0.4em 0.5em 0.4em;box-sizing: border-box;padding-bottom: 0.4em;background-color: white;}#sk-container-id-1 div.sk-label label {font-family: monospace;font-weight: bold;display: inline-block;line-height: 1.2em;}#sk-container-id-1 div.sk-label-container {text-align: center;}#sk-container-id-1 div.sk-container {/* jupyter's `normalize.less` sets `[hidden] { display: none; }` but bootstrap.min.css set `[hidden] { display: none !important; }` so we also need the `!important` here to be able to override the default hidden behavior on the sphinx rendered scikit-learn.org. See: https://github.com/scikit-learn/scikit-learn/issues/21755 */display: inline-block !important;position: relative;}#sk-container-id-1 div.sk-text-repr-fallback {display: none;}</style><div id=\"sk-container-id-1\" class=\"sk-top-container\"><div class=\"sk-text-repr-fallback\"><pre>RandomizedSearchCV(cv=5, estimator=LogisticRegression(), n_iter=20,\n",
       "                   param_distributions={&#x27;C&#x27;: array([1.00000000e-04, 2.63665090e-04, 6.95192796e-04, 1.83298071e-03,\n",
       "       4.83293024e-03, 1.27427499e-02, 3.35981829e-02, 8.85866790e-02,\n",
       "       2.33572147e-01, 6.15848211e-01, 1.62377674e+00, 4.28133240e+00,\n",
       "       1.12883789e+01, 2.97635144e+01, 7.84759970e+01, 2.06913808e+02,\n",
       "       5.45559478e+02, 1.43844989e+03, 3.79269019e+03, 1.00000000e+04]),\n",
       "                                        &#x27;solver&#x27;: [&#x27;liblinear&#x27;]},\n",
       "                   verbose=True)</pre><b>In a Jupyter environment, please rerun this cell to show the HTML representation or trust the notebook. <br />On GitHub, the HTML representation is unable to render, please try loading this page with nbviewer.org.</b></div><div class=\"sk-container\" hidden><div class=\"sk-item sk-dashed-wrapped\"><div class=\"sk-label-container\"><div class=\"sk-label sk-toggleable\"><input class=\"sk-toggleable__control sk-hidden--visually\" id=\"sk-estimator-id-1\" type=\"checkbox\" ><label for=\"sk-estimator-id-1\" class=\"sk-toggleable__label sk-toggleable__label-arrow\">RandomizedSearchCV</label><div class=\"sk-toggleable__content\"><pre>RandomizedSearchCV(cv=5, estimator=LogisticRegression(), n_iter=20,\n",
       "                   param_distributions={&#x27;C&#x27;: array([1.00000000e-04, 2.63665090e-04, 6.95192796e-04, 1.83298071e-03,\n",
       "       4.83293024e-03, 1.27427499e-02, 3.35981829e-02, 8.85866790e-02,\n",
       "       2.33572147e-01, 6.15848211e-01, 1.62377674e+00, 4.28133240e+00,\n",
       "       1.12883789e+01, 2.97635144e+01, 7.84759970e+01, 2.06913808e+02,\n",
       "       5.45559478e+02, 1.43844989e+03, 3.79269019e+03, 1.00000000e+04]),\n",
       "                                        &#x27;solver&#x27;: [&#x27;liblinear&#x27;]},\n",
       "                   verbose=True)</pre></div></div></div><div class=\"sk-parallel\"><div class=\"sk-parallel-item\"><div class=\"sk-item\"><div class=\"sk-label-container\"><div class=\"sk-label sk-toggleable\"><input class=\"sk-toggleable__control sk-hidden--visually\" id=\"sk-estimator-id-2\" type=\"checkbox\" ><label for=\"sk-estimator-id-2\" class=\"sk-toggleable__label sk-toggleable__label-arrow\">estimator: LogisticRegression</label><div class=\"sk-toggleable__content\"><pre>LogisticRegression()</pre></div></div></div><div class=\"sk-serial\"><div class=\"sk-item\"><div class=\"sk-estimator sk-toggleable\"><input class=\"sk-toggleable__control sk-hidden--visually\" id=\"sk-estimator-id-3\" type=\"checkbox\" ><label for=\"sk-estimator-id-3\" class=\"sk-toggleable__label sk-toggleable__label-arrow\">LogisticRegression</label><div class=\"sk-toggleable__content\"><pre>LogisticRegression()</pre></div></div></div></div></div></div></div></div></div></div>"
      ],
      "text/plain": [
       "RandomizedSearchCV(cv=5, estimator=LogisticRegression(), n_iter=20,\n",
       "                   param_distributions={'C': array([1.00000000e-04, 2.63665090e-04, 6.95192796e-04, 1.83298071e-03,\n",
       "       4.83293024e-03, 1.27427499e-02, 3.35981829e-02, 8.85866790e-02,\n",
       "       2.33572147e-01, 6.15848211e-01, 1.62377674e+00, 4.28133240e+00,\n",
       "       1.12883789e+01, 2.97635144e+01, 7.84759970e+01, 2.06913808e+02,\n",
       "       5.45559478e+02, 1.43844989e+03, 3.79269019e+03, 1.00000000e+04]),\n",
       "                                        'solver': ['liblinear']},\n",
       "                   verbose=True)"
      ]
     },
     "execution_count": 54,
     "metadata": {},
     "output_type": "execute_result"
    }
   ],
   "source": [
    "# Tune LogisticRegression\n",
    "\n",
    "np.random.seed(42)\n",
    "\n",
    "# Setup random hyperparameter search for LogisticRegression\n",
    "rs_log_reg = RandomizedSearchCV(LogisticRegression(),\n",
    "                                param_distributions=log_reg_grid,\n",
    "                                cv=5,\n",
    "                                n_iter=20,\n",
    "                                verbose=True)\n",
    "\n",
    "# Fit random hyperparameter search model for LogisticRegression\n",
    "rs_log_reg.fit(X_train, y_train)"
   ]
  },
  {
   "cell_type": "code",
   "execution_count": 55,
   "id": "ebaa221f",
   "metadata": {},
   "outputs": [
    {
     "data": {
      "text/plain": [
       "{'solver': 'liblinear', 'C': 0.03359818286283781}"
      ]
     },
     "execution_count": 55,
     "metadata": {},
     "output_type": "execute_result"
    }
   ],
   "source": [
    "rs_log_reg.best_params_"
   ]
  },
  {
   "cell_type": "code",
   "execution_count": 56,
   "id": "89b0b20f",
   "metadata": {},
   "outputs": [
    {
     "data": {
      "text/plain": [
       "0.8092485549132948"
      ]
     },
     "execution_count": 56,
     "metadata": {},
     "output_type": "execute_result"
    }
   ],
   "source": [
    "rs_log_reg.score(X_test, y_test)"
   ]
  },
  {
   "cell_type": "markdown",
   "id": "b228ee57",
   "metadata": {},
   "source": [
    "Now we've tuned LogisticRegression(), let's do the same for RandomForestClassifier()..."
   ]
  },
  {
   "cell_type": "code",
   "execution_count": null,
   "id": "d15a6658",
   "metadata": {},
   "outputs": [],
   "source": [
    "# Setup random seed\n",
    "np.random.seed(42)\n",
    "\n",
    "# Setup random hyperparameter search for RandomForestClassifier\n",
    "rs_rf = RandomizedSearchCV(RandomForestClassifier(), \n",
    "                           param_distributions=rf_grid,\n",
    "                           cv=5,\n",
    "                           n_iter=20,\n",
    "                           verbose=True)\n",
    "\n",
    "# Fit random hyperparameter search model for RandomForestClassifier()\n",
    "rs_rf.fit(X_train, y_train)"
   ]
  },
  {
   "cell_type": "code",
   "execution_count": null,
   "id": "62a9c33a",
   "metadata": {},
   "outputs": [],
   "source": [
    "# Find the best hyperparameters\n",
    "rs_rf.best_params_"
   ]
  },
  {
   "cell_type": "code",
   "execution_count": null,
   "id": "864e4743",
   "metadata": {},
   "outputs": [],
   "source": [
    "# Evaluate the randomized search RandomForestClassifier model\n",
    "rs_rf.score(X_test, y_test)"
   ]
  },
  {
   "cell_type": "markdown",
   "id": "d5607943",
   "metadata": {},
   "source": [
    "# Hyperparamter Tuning with GridSearchCV"
   ]
  },
  {
   "cell_type": "code",
   "execution_count": null,
   "id": "2e1bc303",
   "metadata": {},
   "outputs": [],
   "source": [
    "# Different hyperparameters for our LogisticRegression model\n",
    "log_reg_grid = {\"C\": np.logspace(-4, 4, 30),\n",
    "                \"solver\": [\"liblinear\"]}\n",
    "\n",
    "# Setup grid hyperparameter search for LogisticRegression\n",
    "gs_log_reg = GridSearchCV(LogisticRegression(),\n",
    "                          param_grid=log_reg_grid,\n",
    "                          cv=5,\n",
    "                          verbose=True)\n",
    "\n",
    "# Fit grid hyperparameter search model\n",
    "gs_log_reg.fit(X_train, y_train);"
   ]
  },
  {
   "cell_type": "code",
   "execution_count": null,
   "id": "c96cf3e2",
   "metadata": {},
   "outputs": [],
   "source": [
    "# Check the best hyperparmaters\n",
    "gs_log_reg.best_params_\n",
    "# Evaluate the grid search LogisticRegression model\n",
    "gs_log_reg.score(X_test, y_test)"
   ]
  },
  {
   "cell_type": "markdown",
   "id": "d704ea57",
   "metadata": {},
   "source": [
    "# Evaluting our tuned machine learning classifier, beyond accuracy"
   ]
  },
  {
   "cell_type": "code",
   "execution_count": null,
   "id": "6041ef67",
   "metadata": {},
   "outputs": [],
   "source": [
    " Make predictions with tuned model\n",
    "y_preds = gs_log_reg.predict(X_test)\n",
    "y_preds"
   ]
  },
  {
   "cell_type": "code",
   "execution_count": null,
   "id": "89f6b852",
   "metadata": {},
   "outputs": [],
   "source": [
    "y_test"
   ]
  },
  {
   "cell_type": "code",
   "execution_count": null,
   "id": "4521691a",
   "metadata": {},
   "outputs": [],
   "source": [
    "# Plot ROC curve and calculate and calculate AUC metric\n",
    "plot_roc_curve(gs_log_reg, X_test, y_test)"
   ]
  },
  {
   "cell_type": "code",
   "execution_count": null,
   "id": "9dc5f137",
   "metadata": {},
   "outputs": [],
   "source": [
    "# Confusion matrix\n",
    "print(confusion_matrix(y_test, y_preds))"
   ]
  },
  {
   "cell_type": "code",
   "execution_count": null,
   "id": "0501ecf4",
   "metadata": {},
   "outputs": [],
   "source": [
    "sns.set(font_scale=1.5)\n",
    "\n",
    "def plot_conf_mat(y_test, y_preds):\n",
    "    \"\"\"\n",
    "    Plots a nice looking confusion matrix using Seaborn's heatmap()\n",
    "    \"\"\"\n",
    "    fig, ax = plt.subplots(figsize=(3, 3))\n",
    "    ax = sns.heatmap(confusion_matrix(y_test, y_preds),\n",
    "                     annot=True,\n",
    "                     cbar=False)\n",
    "    plt.xlabel(\"True label\")\n",
    "    plt.ylabel(\"Predicted label\")\n",
    "    \n",
    "    bottom, top = ax.get_ylim()\n",
    "    ax.set_ylim(bottom + 0.5, top - 0.5)\n",
    "    \n",
    "plot_conf_mat(y_test, y_preds)"
   ]
  },
  {
   "cell_type": "code",
   "execution_count": null,
   "id": "faa4e577",
   "metadata": {},
   "outputs": [],
   "source": [
    "print(classification_report(y_test, y_preds))"
   ]
  },
  {
   "cell_type": "markdown",
   "id": "98f2db1f",
   "metadata": {},
   "source": [
    "# Calculate evaluation metrics using cross-validation"
   ]
  },
  {
   "cell_type": "markdown",
   "id": "0605d474",
   "metadata": {},
   "source": [
    "We're going to calculate accuracy, precision, recall and f1-score of our model using cross-validation and to do so we'll be using cross_val_score()."
   ]
  },
  {
   "cell_type": "code",
   "execution_count": 64,
   "id": "009eecf7",
   "metadata": {},
   "outputs": [
    {
     "data": {
      "text/plain": [
       "{'C': 0.01610262027560939, 'solver': 'liblinear'}"
      ]
     },
     "execution_count": 64,
     "metadata": {},
     "output_type": "execute_result"
    }
   ],
   "source": [
    "# Check best hyperparameters\n",
    "gs_log_reg.best_params_"
   ]
  },
  {
   "cell_type": "code",
   "execution_count": 67,
   "id": "fbe794c4",
   "metadata": {},
   "outputs": [],
   "source": [
    "# Create a new classifier with best parameters\n",
    "clf = LogisticRegression(C=0.20433597178569418,\n",
    "                         solver=\"liblinear\")"
   ]
  },
  {
   "cell_type": "code",
   "execution_count": 69,
   "id": "21af1c96",
   "metadata": {},
   "outputs": [
    {
     "data": {
      "text/plain": [
       "array([0.80685669, 0.80685669, 0.80701754, 0.80681818, 0.80681818])"
      ]
     },
     "execution_count": 69,
     "metadata": {},
     "output_type": "execute_result"
    }
   ],
   "source": [
    "\n",
    "from sklearn.model_selection import cross_val_score\n",
    "# Cross-validated accuracy\n",
    "cv_acc = cross_val_score(clf,\n",
    "                         X,\n",
    "                         y,\n",
    "                         cv=5,\n",
    "                         scoring=\"accuracy\")\n",
    "cv_acc"
   ]
  },
  {
   "cell_type": "code",
   "execution_count": 70,
   "id": "4efd796f",
   "metadata": {},
   "outputs": [
    {
     "data": {
      "text/plain": [
       "0.8068734564045243"
      ]
     },
     "execution_count": 70,
     "metadata": {},
     "output_type": "execute_result"
    }
   ],
   "source": [
    "cv_acc = np.mean(cv_acc)\n",
    "cv_acc"
   ]
  },
  {
   "cell_type": "code",
   "execution_count": 71,
   "id": "96c238fd",
   "metadata": {},
   "outputs": [
    {
     "name": "stderr",
     "output_type": "stream",
     "text": [
      "C:\\Users\\saifa\\anaconda3\\conda\\lib\\site-packages\\sklearn\\metrics\\_classification.py:1344: UndefinedMetricWarning: Precision is ill-defined and being set to 0.0 due to no predicted samples. Use `zero_division` parameter to control this behavior.\n",
      "  _warn_prf(average, modifier, msg_start, len(result))\n",
      "C:\\Users\\saifa\\anaconda3\\conda\\lib\\site-packages\\sklearn\\metrics\\_classification.py:1344: UndefinedMetricWarning: Precision is ill-defined and being set to 0.0 due to no predicted samples. Use `zero_division` parameter to control this behavior.\n",
      "  _warn_prf(average, modifier, msg_start, len(result))\n",
      "C:\\Users\\saifa\\anaconda3\\conda\\lib\\site-packages\\sklearn\\metrics\\_classification.py:1344: UndefinedMetricWarning: Precision is ill-defined and being set to 0.0 due to no predicted samples. Use `zero_division` parameter to control this behavior.\n",
      "  _warn_prf(average, modifier, msg_start, len(result))\n",
      "C:\\Users\\saifa\\anaconda3\\conda\\lib\\site-packages\\sklearn\\metrics\\_classification.py:1344: UndefinedMetricWarning: Precision is ill-defined and being set to 0.0 due to no predicted samples. Use `zero_division` parameter to control this behavior.\n",
      "  _warn_prf(average, modifier, msg_start, len(result))\n",
      "C:\\Users\\saifa\\anaconda3\\conda\\lib\\site-packages\\sklearn\\metrics\\_classification.py:1344: UndefinedMetricWarning: Precision is ill-defined and being set to 0.0 due to no predicted samples. Use `zero_division` parameter to control this behavior.\n",
      "  _warn_prf(average, modifier, msg_start, len(result))\n"
     ]
    },
    {
     "data": {
      "text/plain": [
       "0.0"
      ]
     },
     "execution_count": 71,
     "metadata": {},
     "output_type": "execute_result"
    }
   ],
   "source": [
    "# Cross-validated precision\n",
    "cv_precision = cross_val_score(clf,\n",
    "                         X,\n",
    "                         y,\n",
    "                         cv=5,\n",
    "                         scoring=\"precision\")\n",
    "cv_precision=np.mean(cv_precision)\n",
    "cv_precision"
   ]
  },
  {
   "cell_type": "code",
   "execution_count": 72,
   "id": "0ff8dbd3",
   "metadata": {},
   "outputs": [
    {
     "data": {
      "text/plain": [
       "0.0"
      ]
     },
     "execution_count": 72,
     "metadata": {},
     "output_type": "execute_result"
    }
   ],
   "source": [
    "# Cross-validated recall\n",
    "cv_recall = cross_val_score(clf,\n",
    "                         X,\n",
    "                         y,\n",
    "                         cv=5,\n",
    "                         scoring=\"recall\")\n",
    "cv_recall = np.mean(cv_recall)\n",
    "cv_recall"
   ]
  },
  {
   "cell_type": "code",
   "execution_count": 73,
   "id": "8d363792",
   "metadata": {},
   "outputs": [
    {
     "data": {
      "text/plain": [
       "0.0"
      ]
     },
     "execution_count": 73,
     "metadata": {},
     "output_type": "execute_result"
    }
   ],
   "source": [
    "# Cross-validated f1-score\n",
    "cv_f1 = cross_val_score(clf,\n",
    "                         X,\n",
    "                         y,\n",
    "                         cv=5,\n",
    "                         scoring=\"f1\")\n",
    "cv_f1 = np.mean(cv_f1)\n",
    "cv_f1"
   ]
  },
  {
   "cell_type": "code",
   "execution_count": 83,
   "id": "2e1d74fe",
   "metadata": {},
   "outputs": [],
   "source": [
    "from imblearn.over_sampling import RandomOverSampler\n",
    "from sklearn.metrics import classification_report\n",
    "from sklearn.svm import SVC\n",
    "from sklearn.neural_network import MLPClassifier\n",
    "from sklearn.metrics import classification_report\n"
   ]
  },
  {
   "cell_type": "code",
   "execution_count": 84,
   "id": "93f36a5d",
   "metadata": {},
   "outputs": [
    {
     "name": "stdout",
     "output_type": "stream",
     "text": [
      "Logistic Regression:\n",
      "               precision    recall  f1-score   support\n",
      "\n",
      "           0       0.89      0.62      0.73      4060\n",
      "           1       0.29      0.67      0.41       957\n",
      "\n",
      "    accuracy                           0.63      5017\n",
      "   macro avg       0.59      0.65      0.57      5017\n",
      "weighted avg       0.78      0.63      0.67      5017\n",
      "\n",
      "SVM:\n",
      "               precision    recall  f1-score   support\n",
      "\n",
      "           0       0.96      0.49      0.65      4060\n",
      "           1       0.29      0.91      0.44       957\n",
      "\n",
      "    accuracy                           0.57      5017\n",
      "   macro avg       0.63      0.70      0.55      5017\n",
      "weighted avg       0.83      0.57      0.61      5017\n",
      "\n",
      "Neural Network:\n",
      "               precision    recall  f1-score   support\n",
      "\n",
      "           0       0.98      0.46      0.63      4060\n",
      "           1       0.30      0.97      0.45       957\n",
      "\n",
      "    accuracy                           0.56      5017\n",
      "   macro avg       0.64      0.71      0.54      5017\n",
      "weighted avg       0.85      0.56      0.59      5017\n",
      "\n"
     ]
    }
   ],
   "source": [
    "# Apply random oversampling to balance the dataset\n",
    "ros = RandomOverSampler(random_state=42)\n",
    "X_train_res, y_train_res = ros.fit_resample(X_train, y_train)\n",
    "\n",
    "# Apply random oversampling to balance the dataset\n",
    "ros = RandomOverSampler(random_state=42)\n",
    "X_train_res, y_train_res = ros.fit_resample(X_train, y_train)\n",
    "\n",
    "# Train logistic regression on the resampled data\n",
    "lr = LogisticRegression(random_state=42)\n",
    "lr.fit(X_train_res, y_train_res)\n",
    "\n",
    "# Train SVM on the resampled data\n",
    "svc = SVC(random_state=42)\n",
    "svc.fit(X_train_res, y_train_res)\n",
    "\n",
    "# Train neural network on the resampled data\n",
    "nn = MLPClassifier(random_state=42)\n",
    "nn.fit(X_train_res, y_train_res)\n",
    "\n",
    "# Make predictions on the test set\n",
    "lr_pred = lr.predict(X_test)\n",
    "svc_pred = svc.predict(X_test)\n",
    "nn_pred = nn.predict(X_test)\n",
    "\n",
    "# Print the classification report for each model\n",
    "print(\"Logistic Regression:\\n\", classification_report(y_test, lr_pred))\n",
    "print(\"SVM:\\n\", classification_report(y_test, svc_pred))\n",
    "print(\"Neural Network:\\n\", classification_report(y_test, nn_pred))"
   ]
  },
  {
   "cell_type": "markdown",
   "id": "b8a81894",
   "metadata": {},
   "source": [
    "Observations:\n",
    "    Based on the precision, recall and f1-score metrics, the Logistic Regression model seems to perform the best out of the three models for this particular problem. It has the highest overall weighted f1-score of 0.67, while the SVM and Neural Network models have weighted f1-scores of 0.61 and 0.59, respectively."
   ]
  }
 ],
 "metadata": {
  "kernelspec": {
   "display_name": "Python 3",
   "language": "python",
   "name": "python3"
  },
  "language_info": {
   "codemirror_mode": {
    "name": "ipython",
    "version": 3
   },
   "file_extension": ".py",
   "mimetype": "text/x-python",
   "name": "python",
   "nbconvert_exporter": "python",
   "pygments_lexer": "ipython3",
   "version": "3.8.8"
  }
 },
 "nbformat": 4,
 "nbformat_minor": 5
}
